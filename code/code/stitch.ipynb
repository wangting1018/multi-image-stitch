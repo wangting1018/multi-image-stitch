{
 "cells": [
  {
   "cell_type": "code",
   "execution_count": 25,
   "metadata": {},
   "outputs": [],
   "source": [
    "import numpy as np\n",
    "import cv2\n",
    "import sys\n",
    "from matchers import matchers\n",
    "import glob as gb\n",
    "import time"
   ]
  },
  {
   "cell_type": "code",
   "execution_count": 40,
   "metadata": {},
   "outputs": [],
   "source": [
    "img = (\"A1.jpg\")"
   ]
  },
  {
   "cell_type": "code",
   "execution_count": 38,
   "metadata": {},
   "outputs": [],
   "source": [
    "class Stitch:\n",
    "\tdef __init__(self, args):\n",
    "\t\tself.path = args\n",
    "\t\t#fp = open(self.path, 'r')\n",
    "\t\tfp = open(self.path)\n",
    "\t\tfilenames = [each.rstrip('\\r\\n') for each in  fp.readlines()]\n",
    "\t\tprint (filenames)\n",
    "\t\tself.images = [cv2.resize(cv2.imread(each),(1280, 720)) for each in filenames]\n",
    "\t\tself.count = len(self.images)\n",
    "\t\tself.left_list, self.right_list, self.center_im = [], [],None\n",
    "\t\tself.matcher_obj = matchers()\n",
    "\t\tself.prepare_lists()\n",
    "\n",
    "\tdef prepare_lists(self):\n",
    "\t\tprint (\"Number of images : %d\"%self.count)\n",
    "\t\tself.centerIdx = self.count/2 \n",
    "\t\tprint (\"Center index image : %d\"%self.centerIdx)\n",
    "\t\tself.center_im = self.images[int(self.centerIdx)]\n",
    "\t\tfor i in range(self.count):\n",
    "\t\t\tif(i<=self.centerIdx):\n",
    "\t\t\t\tself.left_list.append(self.images[i])\n",
    "\t\t\telse:\n",
    "\t\t\t\tself.right_list.append(self.images[i])\n",
    "\t\tprint (\"Image lists prepared\")\n",
    "\n",
    "\tdef leftshift(self):\n",
    "\t\t# self.left_list = reversed(self.left_list)\n",
    "\t\ta = self.left_list[0]\n",
    "\t\tfor b in self.left_list[1:]:\n",
    "\t\t\tH = self.matcher_obj.match(a, b, 'left')\n",
    "\t\t\tprint (\"Homography is : \", H)\n",
    "\t\t\txh = np.linalg.inv(H)\n",
    "\t\t\tprint (\"Inverse Homography :\", xh)\n",
    "\t\t\tds = np.dot(xh, np.array([a.shape[1], a.shape[0], 1]));\n",
    "\t\t\tds = ds/ds[-1]\n",
    "\t\t\tprint (\"final ds=>\", ds)\n",
    "\t\t\tf1 = np.dot(xh, np.array([0,0,1]))\n",
    "\t\t\tf1 = f1/f1[-1]\n",
    "\t\t\txh[0][-1] += abs(f1[0])\n",
    "\t\t\txh[1][-1] += abs(f1[1])\n",
    "\t\t\tds = np.dot(xh, np.array([a.shape[1], a.shape[0], 1]))\n",
    "\t\t\toffsety = abs(int(f1[1]))\n",
    "\t\t\toffsetx = abs(int(f1[0]))\n",
    "\t\t\tdsize = (int(ds[0])+offsetx, int(ds[1]) + offsety)\n",
    "\t\t\tprint (\"image dsize =>\", dsize)\n",
    "\t\t\ttmp = cv2.warpPerspective(a, xh, dsize)\n",
    "\t\t\t# cv2.imshow(\"warped\", tmp)\n",
    "\t\t\t# cv2.waitKey()\n",
    "\t\t\ttmp[offsety:b.shape[0]+offsety, offsetx:b.shape[1]+offsetx] = b\n",
    "\t\t\ta = tmp\n",
    "\n",
    "\t\tself.leftImage = tmp\n",
    "\n",
    "\t\t\n",
    "\n",
    "\tdef rightshift(self):\n",
    "\t\tfor each in self.right_list:\n",
    "\t\t\tH = self.matcher_obj.match(self.leftImage, each, 'right')\n",
    "\t\t\tprint (\"Homography :\", H)\n",
    "\t\t\ttxyz = np.dot(H, np.array([each.shape[1], each.shape[0], 1]))\n",
    "\t\t\ttxyz = txyz/txyz[-1]\n",
    "\t\t\tdsize = (int(txyz[0])+self.leftImage.shape[1], int(txyz[1])+self.leftImage.shape[0])\n",
    "\t\t\ttmp = cv2.warpPerspective(each, H, dsize)\n",
    "\t\t\tcv2.imshow(\"tp\", tmp)\n",
    "\t\t\tcv2.waitKey()\n",
    "\t\t\t# tmp[:self.leftImage.shape[0], :self.leftImage.shape[1]]=self.leftImage\n",
    "\t\t\ttmp = self.mix_and_match(self.leftImage, tmp)\n",
    "\t\t\tprint (\"tmp shape\",tmp.shape)\n",
    "\t\t\tprint (\"self.leftimage shape=\", self.leftImage.shape)\n",
    "\t\t\tself.leftImage = tmp\n",
    "\t\t# self.showImage('left')\n",
    "\tdef mix_and_match(self, leftImage, warpedImage):\n",
    "\t\ti1y, i1x = leftImage.shape[:2]\n",
    "\t\ti2y, i2x = warpedImage.shape[:2]\n",
    "\t\tprint (leftImage[-1,-1])\n",
    "\n",
    "\t\tt = time.time()\n",
    "\t\tblack_l = np.where(leftImage == np.array([0,0,0]))\n",
    "\t\tblack_wi = np.where(warpedImage == np.array([0,0,0]))\n",
    "\t\tprint (time.time() - t)\n",
    "\t\tprint (black_l[-1])\n",
    "\n",
    "\t\tfor i in range(0, i1x):\n",
    "\t\t\tfor j in range(0, i1y):\n",
    "\t\t\t\ttry:\n",
    "\t\t\t\t\tif(np.array_equal(leftImage[j,i],np.array([0,0,0])) and  np.array_equal(warpedImage[j,i],np.array([0,0,0]))):\n",
    "\t\t\t\t\t\t# print \"BLACK\"\n",
    "\t\t\t\t\t\t# instead of just putting it with black, \n",
    "\t\t\t\t\t\t# take average of all nearby values and avg it.\n",
    "\t\t\t\t\t\twarpedImage[j,i] = [0, 0, 0]\n",
    "\t\t\t\t\telse:\n",
    "\t\t\t\t\t\tif(np.array_equal(warpedImage[j,i],[0,0,0])):\n",
    "\t\t\t\t\t\t\t# print \"PIXEL\"\n",
    "\t\t\t\t\t\t\twarpedImage[j,i] = leftImage[j,i]\n",
    "\t\t\t\t\t\telse:\n",
    "\t\t\t\t\t\t\tif not np.array_equal(leftImage[j,i], [0,0,0]):\n",
    "\t\t\t\t\t\t\t\tbw, gw, rw = warpedImage[j,i]\n",
    "\t\t\t\t\t\t\t\tbl,gl,rl = leftImage[j,i]\n",
    "\t\t\t\t\t\t\t\t# b = (bl+bw)/2\n",
    "\t\t\t\t\t\t\t\t# g = (gl+gw)/2\n",
    "\t\t\t\t\t\t\t\t# r = (rl+rw)/2\n",
    "\t\t\t\t\t\t\t\twarpedImage[j, i] = [bl,gl,rl]\n",
    "\t\t\t\texcept:\n",
    "\t\t\t\t\tpass\n",
    "\t\t# cv2.imshow(\"waRPED mix\", warpedImage)\n",
    "\t\t# cv2.waitKey()\n",
    "\t\treturn warpedImage\n",
    "\n",
    "    \n",
    "\n",
    "\tdef trim_left(self):\n",
    "\t\tpass\n",
    "\n",
    "\n",
    "\tdef showImage(self, string=None):\n",
    "\t\tif string == 'left':\n",
    "\t\t\tcv2.imshow(\"left image\", self.leftImage)\n",
    "\t\t\t# cv2.imshow(\"left image\", cv2.resize(self.leftImage, (400,400)))\n",
    "\t\telif string == \"right\":\n",
    "\t\t\tcv2.imshow(\"right Image\", self.rightImage)\n",
    "\t\tcv2.waitKey()"
   ]
  },
  {
   "cell_type": "code",
   "execution_count": 39,
   "metadata": {},
   "outputs": [
    {
     "name": "stdout",
     "output_type": "stream",
     "text": [
      "Parameters :  ['./ice\\\\A1.jpg', './ice\\\\A2.jpg', './ice\\\\A3.jpg', './ice\\\\A4.jpg', './ice\\\\A5.jpg']\n"
     ]
    },
    {
     "ename": "TypeError",
     "evalue": "expected str, bytes or os.PathLike object, not list",
     "output_type": "error",
     "traceback": [
      "\u001b[1;31m---------------------------------------------------------------------------\u001b[0m",
      "\u001b[1;31mTypeError\u001b[0m                                 Traceback (most recent call last)",
      "\u001b[1;32m<ipython-input-39-c8f60b9a8692>\u001b[0m in \u001b[0;36m<module>\u001b[1;34m()\u001b[0m\n\u001b[0;32m      4\u001b[0m         \u001b[0margs\u001b[0m \u001b[1;33m=\u001b[0m \u001b[0mimg_path\u001b[0m\u001b[1;33m\u001b[0m\u001b[0m\n\u001b[0;32m      5\u001b[0m         \u001b[0mprint\u001b[0m \u001b[1;33m(\u001b[0m\u001b[1;34m\"Parameters : \"\u001b[0m\u001b[1;33m,\u001b[0m \u001b[0margs\u001b[0m\u001b[1;33m)\u001b[0m\u001b[1;33m\u001b[0m\u001b[0m\n\u001b[1;32m----> 6\u001b[1;33m         \u001b[0ms\u001b[0m \u001b[1;33m=\u001b[0m \u001b[0mStitch\u001b[0m\u001b[1;33m(\u001b[0m\u001b[0margs\u001b[0m\u001b[1;33m)\u001b[0m\u001b[1;33m\u001b[0m\u001b[0m\n\u001b[0m\u001b[0;32m      7\u001b[0m \u001b[1;33m\u001b[0m\u001b[0m\n\u001b[0;32m      8\u001b[0m \u001b[1;33m\u001b[0m\u001b[0m\n",
      "\u001b[1;32m<ipython-input-38-77c5a71f74ee>\u001b[0m in \u001b[0;36m__init__\u001b[1;34m(self, args)\u001b[0m\n\u001b[0;32m      3\u001b[0m                 \u001b[0mself\u001b[0m\u001b[1;33m.\u001b[0m\u001b[0mpath\u001b[0m \u001b[1;33m=\u001b[0m \u001b[0margs\u001b[0m\u001b[1;33m\u001b[0m\u001b[0m\n\u001b[0;32m      4\u001b[0m                 \u001b[1;31m#fp = open(self.path, 'r')\u001b[0m\u001b[1;33m\u001b[0m\u001b[1;33m\u001b[0m\u001b[0m\n\u001b[1;32m----> 5\u001b[1;33m                 \u001b[0mfp\u001b[0m \u001b[1;33m=\u001b[0m \u001b[0mopen\u001b[0m\u001b[1;33m(\u001b[0m\u001b[0mself\u001b[0m\u001b[1;33m.\u001b[0m\u001b[0mpath\u001b[0m\u001b[1;33m)\u001b[0m\u001b[1;33m\u001b[0m\u001b[0m\n\u001b[0m\u001b[0;32m      6\u001b[0m                 \u001b[0mfilenames\u001b[0m \u001b[1;33m=\u001b[0m \u001b[1;33m[\u001b[0m\u001b[0meach\u001b[0m\u001b[1;33m.\u001b[0m\u001b[0mrstrip\u001b[0m\u001b[1;33m(\u001b[0m\u001b[1;34m'\\r\\n'\u001b[0m\u001b[1;33m)\u001b[0m \u001b[1;32mfor\u001b[0m \u001b[0meach\u001b[0m \u001b[1;32min\u001b[0m  \u001b[0mfp\u001b[0m\u001b[1;33m.\u001b[0m\u001b[0mreadlines\u001b[0m\u001b[1;33m(\u001b[0m\u001b[1;33m)\u001b[0m\u001b[1;33m]\u001b[0m\u001b[1;33m\u001b[0m\u001b[0m\n\u001b[0;32m      7\u001b[0m                 \u001b[0mprint\u001b[0m \u001b[1;33m(\u001b[0m\u001b[0mfilenames\u001b[0m\u001b[1;33m)\u001b[0m\u001b[1;33m\u001b[0m\u001b[0m\n",
      "\u001b[1;31mTypeError\u001b[0m: expected str, bytes or os.PathLike object, not list"
     ]
    }
   ],
   "source": [
    "\n",
    "if __name__ == '__main__':\n",
    "\timg_path = gb.glob(\"./ice/*.jpg\")\n",
    "\targs = img_path\n",
    "\tprint (\"Parameters : \", args)\n",
    "\ts = Stitch(args)\n",
    "\n",
    "\n",
    "\tcv2.destroyAllWindows()\n",
    "\t"
   ]
  },
  {
   "cell_type": "code",
   "execution_count": 23,
   "metadata": {},
   "outputs": [
    {
     "name": "stdout",
     "output_type": "stream",
     "text": [
      "Parameters :  -f\n"
     ]
    },
    {
     "ename": "FileNotFoundError",
     "evalue": "[Errno 2] No such file or directory: '-f'",
     "output_type": "error",
     "traceback": [
      "\u001b[1;31m---------------------------------------------------------------------------\u001b[0m",
      "\u001b[1;31mFileNotFoundError\u001b[0m                         Traceback (most recent call last)",
      "\u001b[1;32m<ipython-input-23-b0ae23274f37>\u001b[0m in \u001b[0;36m<module>\u001b[1;34m()\u001b[0m\n\u001b[0;32m      7\u001b[0m         \u001b[1;32mfinally\u001b[0m\u001b[1;33m:\u001b[0m\u001b[1;33m\u001b[0m\u001b[0m\n\u001b[0;32m      8\u001b[0m                 \u001b[0mprint\u001b[0m \u001b[1;33m(\u001b[0m\u001b[1;34m\"Parameters : \"\u001b[0m\u001b[1;33m,\u001b[0m \u001b[0margs\u001b[0m\u001b[1;33m)\u001b[0m\u001b[1;33m\u001b[0m\u001b[0m\n\u001b[1;32m----> 9\u001b[1;33m         \u001b[0ms\u001b[0m \u001b[1;33m=\u001b[0m \u001b[0mStitch\u001b[0m\u001b[1;33m(\u001b[0m\u001b[0margs\u001b[0m\u001b[1;33m)\u001b[0m\u001b[1;33m\u001b[0m\u001b[0m\n\u001b[0m\u001b[0;32m     10\u001b[0m         \u001b[0ms\u001b[0m\u001b[1;33m.\u001b[0m\u001b[0mleftshift\u001b[0m\u001b[1;33m(\u001b[0m\u001b[1;33m)\u001b[0m\u001b[1;33m\u001b[0m\u001b[0m\n\u001b[0;32m     11\u001b[0m         \u001b[1;31m# s.showImage('left')\u001b[0m\u001b[1;33m\u001b[0m\u001b[1;33m\u001b[0m\u001b[0m\n",
      "\u001b[1;32m<ipython-input-17-a4bcd6bc35e3>\u001b[0m in \u001b[0;36m__init__\u001b[1;34m(self, args)\u001b[0m\n\u001b[0;32m      2\u001b[0m         \u001b[1;32mdef\u001b[0m \u001b[0m__init__\u001b[0m\u001b[1;33m(\u001b[0m\u001b[0mself\u001b[0m\u001b[1;33m,\u001b[0m \u001b[0margs\u001b[0m\u001b[1;33m)\u001b[0m\u001b[1;33m:\u001b[0m\u001b[1;33m\u001b[0m\u001b[0m\n\u001b[0;32m      3\u001b[0m                 \u001b[0mself\u001b[0m\u001b[1;33m.\u001b[0m\u001b[0mpath\u001b[0m \u001b[1;33m=\u001b[0m \u001b[0margs\u001b[0m\u001b[1;33m\u001b[0m\u001b[0m\n\u001b[1;32m----> 4\u001b[1;33m                 \u001b[0mfp\u001b[0m \u001b[1;33m=\u001b[0m \u001b[0mopen\u001b[0m\u001b[1;33m(\u001b[0m\u001b[0mself\u001b[0m\u001b[1;33m.\u001b[0m\u001b[0mpath\u001b[0m\u001b[1;33m,\u001b[0m \u001b[1;34m'r'\u001b[0m\u001b[1;33m)\u001b[0m\u001b[1;33m\u001b[0m\u001b[0m\n\u001b[0m\u001b[0;32m      5\u001b[0m                 \u001b[0mfilenames\u001b[0m \u001b[1;33m=\u001b[0m \u001b[1;33m[\u001b[0m\u001b[0meach\u001b[0m\u001b[1;33m.\u001b[0m\u001b[0mrstrip\u001b[0m\u001b[1;33m(\u001b[0m\u001b[1;34m'\\r\\n'\u001b[0m\u001b[1;33m)\u001b[0m \u001b[1;32mfor\u001b[0m \u001b[0meach\u001b[0m \u001b[1;32min\u001b[0m  \u001b[0mfp\u001b[0m\u001b[1;33m.\u001b[0m\u001b[0mreadlines\u001b[0m\u001b[1;33m(\u001b[0m\u001b[1;33m)\u001b[0m\u001b[1;33m]\u001b[0m\u001b[1;33m\u001b[0m\u001b[0m\n\u001b[0;32m      6\u001b[0m                 \u001b[0mprint\u001b[0m \u001b[1;33m(\u001b[0m\u001b[0mfilenames\u001b[0m\u001b[1;33m)\u001b[0m\u001b[1;33m\u001b[0m\u001b[0m\n",
      "\u001b[1;31mFileNotFoundError\u001b[0m: [Errno 2] No such file or directory: '-f'"
     ]
    }
   ],
   "source": [
    "\n",
    "if __name__ == '__main__':\n",
    "\ttry:\n",
    "\t\targs = sys.argv[1]\n",
    "\texcept:\n",
    "\t\targs = \"txtlists\\files2.txt\"\n",
    "\tfinally:\n",
    "\t\tprint (\"Parameters : \", args)\n",
    "\ts = Stitch(args)\n",
    "\ts.leftshift()\n",
    "\t# s.showImage('left')\n",
    "\ts.rightshift()\n",
    "\tprint (\"done\")\n",
    "\tcv2.imwrite(\"e.jpg\", s.leftImage)\n",
    "\tprint (\"image written\")\n",
    "\tcv2.destroyAllWindows()\n",
    "\t\n"
   ]
  },
  {
   "cell_type": "code",
   "execution_count": 20,
   "metadata": {},
   "outputs": [
    {
     "ename": "NameError",
     "evalue": "name 'Sticher' is not defined",
     "output_type": "error",
     "traceback": [
      "\u001b[1;31m---------------------------------------------------------------------------\u001b[0m",
      "\u001b[1;31mNameError\u001b[0m                                 Traceback (most recent call last)",
      "\u001b[1;32m<ipython-input-20-5a95f9e8c256>\u001b[0m in \u001b[0;36m<module>\u001b[1;34m()\u001b[0m\n\u001b[1;32m----> 1\u001b[1;33m \u001b[0mstitcher\u001b[0m \u001b[1;33m=\u001b[0m \u001b[0mSticher\u001b[0m\u001b[1;33m.\u001b[0m\u001b[0mStitcher\u001b[0m\u001b[1;33m(\u001b[0m\u001b[1;33m)\u001b[0m\u001b[1;33m\u001b[0m\u001b[0m\n\u001b[0m\u001b[0;32m      2\u001b[0m \u001b[0mimg_path\u001b[0m \u001b[1;33m=\u001b[0m \u001b[0mgb\u001b[0m\u001b[1;33m.\u001b[0m\u001b[0mglob\u001b[0m\u001b[1;33m(\u001b[0m\u001b[1;34m\".images/*.jpg\"\u001b[0m\u001b[1;33m)\u001b[0m\u001b[1;33m\u001b[0m\u001b[0m\n\u001b[0;32m      3\u001b[0m \u001b[1;33m\u001b[0m\u001b[0m\n\u001b[0;32m      4\u001b[0m \u001b[0mnum\u001b[0m \u001b[1;33m=\u001b[0m \u001b[0mlen\u001b[0m\u001b[1;33m(\u001b[0m\u001b[0mimg_path\u001b[0m\u001b[1;33m)\u001b[0m\u001b[1;33m\u001b[0m\u001b[0m\n\u001b[0;32m      5\u001b[0m \u001b[0mst\u001b[0m \u001b[1;33m=\u001b[0m \u001b[0mint\u001b[0m\u001b[1;33m(\u001b[0m\u001b[0mnum\u001b[0m \u001b[1;33m/\u001b[0m \u001b[1;36m2\u001b[0m\u001b[1;33m)\u001b[0m \u001b[1;33m+\u001b[0m \u001b[1;36m1\u001b[0m\u001b[1;33m\u001b[0m\u001b[0m\n",
      "\u001b[1;31mNameError\u001b[0m: name 'Sticher' is not defined"
     ]
    }
   ],
   "source": [
    "stitcher = Sticher.Stitcher()\n",
    "img_path = gb.glob(\".images/*.jpg\")\n",
    "# img_path = gb.glob(\"./ice/*.jpg\")\n",
    "num = len(img_path)\n",
    "st = int(num / 2) + 1\n",
    "\n",
    "    # 读取拼接图片\n",
    "    # for\n",
    "imageA = cv2.imread(img_path[0])\n",
    "for i in range(num - 1):\n",
    "    imageB = cv2.imread(img_path[i + 1])\n",
    "\n",
    "# 把图片拼接成全景图\n",
    "    (result, vis) = stitcher.stitch([imageA, imageB], showMatches=True)\n",
    "    cv2.imwrite(\"./output/\" + str(i) + \".jpg\", result)\n",
    "    imageA = result\n",
    "    "
   ]
  },
  {
   "cell_type": "code",
   "execution_count": null,
   "metadata": {},
   "outputs": [],
   "source": []
  },
  {
   "cell_type": "code",
   "execution_count": null,
   "metadata": {},
   "outputs": [],
   "source": []
  }
 ],
 "metadata": {
  "kernelspec": {
   "display_name": "Python 3",
   "language": "python",
   "name": "python3"
  },
  "language_info": {
   "codemirror_mode": {
    "name": "ipython",
    "version": 3
   },
   "file_extension": ".py",
   "mimetype": "text/x-python",
   "name": "python",
   "nbconvert_exporter": "python",
   "pygments_lexer": "ipython3",
   "version": "3.6.5"
  }
 },
 "nbformat": 4,
 "nbformat_minor": 1
}
